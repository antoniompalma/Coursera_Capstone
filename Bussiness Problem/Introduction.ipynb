{
    "cells": [
        {
            "cell_type": "markdown",
            "metadata": {
                "collapsed": true
            },
            "source": "1. Introduction\n\n1.1 Background\n\nThis data is regarding Seattle, Washington state. Total number of personal vehicles in Seattle in the year 2016 was 444,000 vehicles. \nThe increase in car ownership rates can lead to higher numbers of accidents on the road because of a simple probability. \n\n1.2 Problem\n\nThe National Highway\nTraffic Safety Administration of the USA suggests that the economical and social harm from\ncar accidents can cost more than $800 billion per year. According to 2017 WSDOT data, a car\naccident occurs every 4 minutes and a person dies due to a car crash every 20 hours in the state\nof Washington while Fatal crashes went from 508 in 2016 to 525 in 2017, resulting in the death\nof 555 people. \nThis project\u00b4s goal is to predict severity of an accident and how it can be reduced based on some factors.\n\n\n1.3 Stakeholders\n\nThe reduction in severity of accidents can be beneficial to Seattle Authority which works towards improving those road factors and the car drivers who\nmay take precaution to reduce the severity of accidents."
        },
        {
            "cell_type": "code",
            "execution_count": null,
            "metadata": {},
            "outputs": [],
            "source": ""
        }
    ],
    "metadata": {
        "kernelspec": {
            "display_name": "Python 3.6",
            "language": "python",
            "name": "python3"
        },
        "language_info": {
            "codemirror_mode": {
                "name": "ipython",
                "version": 3
            },
            "file_extension": ".py",
            "mimetype": "text/x-python",
            "name": "python",
            "nbconvert_exporter": "python",
            "pygments_lexer": "ipython3",
            "version": "3.6.9"
        }
    },
    "nbformat": 4,
    "nbformat_minor": 1
}