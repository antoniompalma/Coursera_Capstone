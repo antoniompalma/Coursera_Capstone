{
    "cells": [
        {
            "cell_type": "markdown",
            "metadata": {
                "collapsed": true
            },
            "source": "2. Understanding Data\n\n2.1 Data Cleaning\n\nThe dataset has total observations of 194673 with variation in number of observations for every\nfeature.\nFirst of all, the total dataset had high variation in the lengths of almost every\ncolumn of the dataset.\nThe dataset had a lot of empty columns which could have been\nbeneficial had the data been present there. These columns included pedestrian granted\nway or not, segment lane key, crosswalk key and hit parked car.\nThe models aim was to predict the severity of an accident, considering that, the variable\nof Severity Code was in the form of 1 (Property Damage Only) and 2 (Injury Collision)\nwhich were encoded to the form of 0 (Property Damage Only) and 1 (Injury Collision).\nFurthermore, the Y was given value of 1 whereas N and no value was given 0 for the\nvariables Inattention, Speeding and Under the influence. For lighting conditions, Light\nwas given 0 along with Medium as 1 and Dark as 2. For Road Condition, Dry was\nassigned 0, Mushy was assigned 1 and Wet was given 2. As for Weather Condition, 0 is\nClear, Overcast is 1, Windy is 2 and Rain and Snow was given 3. 0 was assigned to the\nelement of each variable which can be the least probable cause of severe accident\nwhereas a high number represented adverse condition which can lead to a higher\naccident severity. Whereas, there were unique values for every variable which were\neither \u2018Other\u2019 or \u2018Unknown\u2019, deleting those rows entirely would have led to a lot of loss of\ndata which is not preferred.\n\nIn order to deal with the issue of columns having a variation in frequency, arrays were\nmade for each column which were encoded according to the original column and had\nequal proportion of elements as the original column. Then the arrays were imposed on\nthe original columns in the positions which had \u2018Other\u2019 and \u2018Unknown\u2019 in them. This\nentire process of cleaning data led to a loss of almost 5000 rows which had redundant\ndata, whereas other rows with unknown values were filled earlier.\n\n2.2 Feature Selection\n\nA total of 5 features were selected for this project along with the target variable being\nSeverity Code.\n\nUnderinfl - wether or not the driver was under the influence (Y/N)\nWeather - Weather condition during time of collision (ovecast/rain/clear)\nroadcond - road condition during collision (wet/dry)\nlightcond - light condition during collision (lights on/dark with lights on)\nINCDDTM - time of collision can indicate if driver was tired, etc\n\nSpeeding and InnationInd were not considered due to the few number of entries compared to other features.\n"
        },
        {
            "cell_type": "code",
            "execution_count": null,
            "metadata": {},
            "outputs": [],
            "source": ""
        }
    ],
    "metadata": {
        "kernelspec": {
            "display_name": "Python 3.6",
            "language": "python",
            "name": "python3"
        },
        "language_info": {
            "codemirror_mode": {
                "name": "ipython",
                "version": 3
            },
            "file_extension": ".py",
            "mimetype": "text/x-python",
            "name": "python",
            "nbconvert_exporter": "python",
            "pygments_lexer": "ipython3",
            "version": "3.6.9"
        }
    },
    "nbformat": 4,
    "nbformat_minor": 1
}